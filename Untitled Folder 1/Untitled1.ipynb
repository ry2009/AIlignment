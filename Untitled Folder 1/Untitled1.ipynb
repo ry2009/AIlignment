{
 "cells": [
  {
   "cell_type": "code",
   "execution_count": 1,
   "id": "cbcd2a1e",
   "metadata": {},
   "outputs": [
    {
     "name": "stderr",
     "output_type": "stream",
     "text": [
      "/Users/ryanmathieu/anaconda3/lib/python3.11/site-packages/transformers/utils/generic.py:260: UserWarning: torch.utils._pytree._register_pytree_node is deprecated. Please use torch.utils._pytree.register_pytree_node instead.\n",
      "  torch.utils._pytree._register_pytree_node(\n"
     ]
    }
   ],
   "source": [
    "import torch\n",
    "from transformers import DistilBertModel, DistilBertTokenizer\n",
    "\n",
    "class AdaptiveTokenPruner:\n",
    "    def __init__(self, threshold=0.1):\n",
    "        self.model = DistilBertModel.from_pretrained('distilbert-base-uncased')\n",
    "        self.tokenizer = DistilBertTokenizer.from_pretrained('distilbert-base-uncased')\n",
    "        self.threshold = threshold\n",
    "        \n",
    "    def compute_token_importance(self, attention_scores):\n",
    "        # Aggregate attention scores across heads\n",
    "        importance = torch.mean(attention_scores, dim=1)\n",
    "        return importance\n",
    "        \n",
    "    def prune_tokens(self, input_ids, attention_mask):\n",
    "        # Get attention scores from first layer\n",
    "        outputs = self.model(\n",
    "            input_ids=input_ids,\n",
    "            attention_mask=attention_mask,\n",
    "            output_attentions=True\n",
    "        )\n",
    "        \n",
    "        # Compute importance scores\n",
    "        importance = self.compute_token_importance(outputs.attentions[0])\n",
    "        \n",
    "        # Create pruning mask\n",
    "        keep_mask = importance > self.threshold\n",
    "        \n",
    "        return keep_mask"
   ]
  },
  {
   "cell_type": "code",
   "execution_count": null,
   "id": "72e0789d",
   "metadata": {},
   "outputs": [],
   "source": []
  }
 ],
 "metadata": {
  "kernelspec": {
   "display_name": "Python 3 (ipykernel)",
   "language": "python",
   "name": "python3"
  },
  "language_info": {
   "codemirror_mode": {
    "name": "ipython",
    "version": 3
   },
   "file_extension": ".py",
   "mimetype": "text/x-python",
   "name": "python",
   "nbconvert_exporter": "python",
   "pygments_lexer": "ipython3",
   "version": "3.11.5"
  }
 },
 "nbformat": 4,
 "nbformat_minor": 5
}
